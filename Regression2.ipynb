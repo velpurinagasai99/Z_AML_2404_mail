{
 "cells": [
  {
   "cell_type": "code",
   "execution_count": 1,
   "id": "4567f6c0-5091-4e34-a0d9-d45437d32b86",
   "metadata": {},
   "outputs": [],
   "source": [
    "import pandas as pd\n",
    "import matplotlib.pyplot as plt\n",
    "from sklearn.preprocessing import LabelEncoder\n",
    "from sklearn.linear_model import LinearRegression\n",
    "from sklearn.metrics import mean_squared_error, mean_absolute_error, accuracy_score\n",
    "import numpy as np\n",
    "from sklearn import metrics\n",
    "from sklearn.ensemble import RandomForestRegressor"
   ]
  },
  {
   "cell_type": "code",
   "execution_count": 2,
   "id": "ee9ea8df-7880-4b32-acd2-48c43158a906",
   "metadata": {},
   "outputs": [],
   "source": [
    "df=pd.read_csv('finaldata.csv')"
   ]
  },
  {
   "cell_type": "code",
   "execution_count": 3,
   "id": "922eb40c-ad6c-4777-b953-8ee3861a14c0",
   "metadata": {},
   "outputs": [
    {
     "data": {
      "text/html": [
       "<div>\n",
       "<style scoped>\n",
       "    .dataframe tbody tr th:only-of-type {\n",
       "        vertical-align: middle;\n",
       "    }\n",
       "\n",
       "    .dataframe tbody tr th {\n",
       "        vertical-align: top;\n",
       "    }\n",
       "\n",
       "    .dataframe thead th {\n",
       "        text-align: right;\n",
       "    }\n",
       "</style>\n",
       "<table border=\"1\" class=\"dataframe\">\n",
       "  <thead>\n",
       "    <tr style=\"text-align: right;\">\n",
       "      <th></th>\n",
       "      <th>AdminName</th>\n",
       "      <th>GeoRegion</th>\n",
       "      <th>GeoSubreg</th>\n",
       "      <th>IncomeGrp</th>\n",
       "      <th>LendCat</th>\n",
       "      <th>VarDesc</th>\n",
       "      <th>UrbanPop</th>\n",
       "      <th>RuralPop</th>\n",
       "      <th>TotalPop</th>\n",
       "      <th>UrbanLA</th>\n",
       "      <th>RuralLA</th>\n",
       "      <th>TotalLA</th>\n",
       "    </tr>\n",
       "  </thead>\n",
       "  <tbody>\n",
       "    <tr>\n",
       "      <th>0</th>\n",
       "      <td>Syrian Arab Republic</td>\n",
       "      <td>Asia</td>\n",
       "      <td>Western Asia</td>\n",
       "      <td>Low income</td>\n",
       "      <td>IDA</td>\n",
       "      <td>Elevation under 5 meters</td>\n",
       "      <td>30620.145664</td>\n",
       "      <td>1.084850e+04</td>\n",
       "      <td>4.146865e+04</td>\n",
       "      <td>15.427241</td>\n",
       "      <td>22.357709</td>\n",
       "      <td>37.784950</td>\n",
       "    </tr>\n",
       "    <tr>\n",
       "      <th>1</th>\n",
       "      <td>Togo</td>\n",
       "      <td>Africa</td>\n",
       "      <td>Western Africa</td>\n",
       "      <td>Low income</td>\n",
       "      <td>IDA</td>\n",
       "      <td>Elevation under 5 meters</td>\n",
       "      <td>55219.074696</td>\n",
       "      <td>1.553526e+05</td>\n",
       "      <td>2.105717e+05</td>\n",
       "      <td>27.818326</td>\n",
       "      <td>205.311436</td>\n",
       "      <td>233.129761</td>\n",
       "    </tr>\n",
       "    <tr>\n",
       "      <th>2</th>\n",
       "      <td>Mozambique</td>\n",
       "      <td>Africa</td>\n",
       "      <td>Eastern Africa</td>\n",
       "      <td>Low income</td>\n",
       "      <td>IDA</td>\n",
       "      <td>Elevation between 50 and 100 meters</td>\n",
       "      <td>279377.806046</td>\n",
       "      <td>2.166789e+06</td>\n",
       "      <td>2.446166e+06</td>\n",
       "      <td>386.302173</td>\n",
       "      <td>93757.456316</td>\n",
       "      <td>94143.758488</td>\n",
       "    </tr>\n",
       "    <tr>\n",
       "      <th>3</th>\n",
       "      <td>Burkina Faso</td>\n",
       "      <td>Africa</td>\n",
       "      <td>Western Africa</td>\n",
       "      <td>Low income</td>\n",
       "      <td>IDA</td>\n",
       "      <td>Elevation between 400 and 800 meters</td>\n",
       "      <td>637.095442</td>\n",
       "      <td>8.170922e+03</td>\n",
       "      <td>8.808017e+03</td>\n",
       "      <td>134.234603</td>\n",
       "      <td>9032.678212</td>\n",
       "      <td>9166.912815</td>\n",
       "    </tr>\n",
       "    <tr>\n",
       "      <th>4</th>\n",
       "      <td>South Sudan</td>\n",
       "      <td>Africa</td>\n",
       "      <td>Eastern Africa</td>\n",
       "      <td>Low income</td>\n",
       "      <td>IDA</td>\n",
       "      <td>Elevation between 800 and 1500 meters</td>\n",
       "      <td>277.162453</td>\n",
       "      <td>7.758986e+04</td>\n",
       "      <td>7.786702e+04</td>\n",
       "      <td>65.242679</td>\n",
       "      <td>33046.173375</td>\n",
       "      <td>33111.416054</td>\n",
       "    </tr>\n",
       "  </tbody>\n",
       "</table>\n",
       "</div>"
      ],
      "text/plain": [
       "              AdminName GeoRegion       GeoSubreg   IncomeGrp LendCat  \\\n",
       "0  Syrian Arab Republic      Asia    Western Asia  Low income     IDA   \n",
       "1                  Togo    Africa  Western Africa  Low income     IDA   \n",
       "2            Mozambique    Africa  Eastern Africa  Low income     IDA   \n",
       "3          Burkina Faso    Africa  Western Africa  Low income     IDA   \n",
       "4           South Sudan    Africa  Eastern Africa  Low income     IDA   \n",
       "\n",
       "                                 VarDesc       UrbanPop      RuralPop  \\\n",
       "0               Elevation under 5 meters   30620.145664  1.084850e+04   \n",
       "1               Elevation under 5 meters   55219.074696  1.553526e+05   \n",
       "2    Elevation between 50 and 100 meters  279377.806046  2.166789e+06   \n",
       "3   Elevation between 400 and 800 meters     637.095442  8.170922e+03   \n",
       "4  Elevation between 800 and 1500 meters     277.162453  7.758986e+04   \n",
       "\n",
       "       TotalPop     UrbanLA       RuralLA       TotalLA  \n",
       "0  4.146865e+04   15.427241     22.357709     37.784950  \n",
       "1  2.105717e+05   27.818326    205.311436    233.129761  \n",
       "2  2.446166e+06  386.302173  93757.456316  94143.758488  \n",
       "3  8.808017e+03  134.234603   9032.678212   9166.912815  \n",
       "4  7.786702e+04   65.242679  33046.173375  33111.416054  "
      ]
     },
     "execution_count": 3,
     "metadata": {},
     "output_type": "execute_result"
    }
   ],
   "source": [
    "df.head()"
   ]
  },
  {
   "cell_type": "code",
   "execution_count": 4,
   "id": "57ac96ad-7823-47e3-8809-df10ac64d9bd",
   "metadata": {},
   "outputs": [],
   "source": [
    "df1=df[['GeoSubreg','IncomeGrp','VarDesc','TotalLA','TotalPop']]"
   ]
  },
  {
   "cell_type": "code",
   "execution_count": 5,
   "id": "3268805c-e0f3-40b9-8253-b6a34a0c27b9",
   "metadata": {},
   "outputs": [],
   "source": [
    "df1=df1[df1['TotalPop']<=1.000000e+06]"
   ]
  },
  {
   "cell_type": "code",
   "execution_count": 6,
   "id": "6fa379c1-efb9-418e-b28c-bda6fb79967b",
   "metadata": {},
   "outputs": [],
   "source": [
    "df1=df1[df1['TotalPop']>=1.000000e+04]"
   ]
  },
  {
   "cell_type": "code",
   "execution_count": 7,
   "id": "33ed2a2d-bbc5-4d7f-96ea-c038626e4ee8",
   "metadata": {},
   "outputs": [],
   "source": [
    "df1=df1[df1['VarDesc'].isin(['Elevation under 5 meters',\n",
    "       'Elevation between 800 and 1500 meters',\n",
    "       'Elevation between 200 and 400 meters',\n",
    "       'Elevation between 1500 and 3000 meters',\n",
    "       'Elevation between 50 and 100 meters',\n",
    "       'Elevation between 25 and 50 meters',\n",
    "       'Elevation between 400 and 800 meters',\n",
    "       'Elevation between 5 and 10 meters',\n",
    "       'Elevation between 10 and 25 meters',\n",
    "       'Elevation between 100 and 200 meters',\n",
    "       'Elevation between 3000 and 5000 meters',\n",
    "       'Elevation over 5000 meters'])]"
   ]
  },
  {
   "cell_type": "code",
   "execution_count": 8,
   "id": "ec20abf0-c64f-4527-9b6e-3d8091ee74fc",
   "metadata": {},
   "outputs": [
    {
     "data": {
      "text/plain": [
       "array(['Elevation under 5 meters',\n",
       "       'Elevation between 800 and 1500 meters',\n",
       "       'Elevation between 200 and 400 meters',\n",
       "       'Elevation between 1500 and 3000 meters',\n",
       "       'Elevation between 50 and 100 meters',\n",
       "       'Elevation between 25 and 50 meters',\n",
       "       'Elevation between 400 and 800 meters',\n",
       "       'Elevation between 5 and 10 meters',\n",
       "       'Elevation between 10 and 25 meters',\n",
       "       'Elevation between 100 and 200 meters',\n",
       "       'Elevation between 3000 and 5000 meters',\n",
       "       'Elevation over 5000 meters'], dtype=object)"
      ]
     },
     "execution_count": 8,
     "metadata": {},
     "output_type": "execute_result"
    }
   ],
   "source": [
    "df1['VarDesc'].unique()"
   ]
  },
  {
   "cell_type": "code",
   "execution_count": 9,
   "id": "e27e1c57-bca1-4b2b-8e42-03aeb35abeed",
   "metadata": {},
   "outputs": [
    {
     "data": {
      "image/png": "[encoded data removed]",
      "text/plain": [
       "<Figure size 1200x700 with 1 Axes>"
      ]
     },
     "metadata": {},
     "output_type": "display_data"
    }
   ],
   "source": [
    "fig,ax=plt.subplots(1,1,figsize=(12,7))\n",
    "df1.boxplot('TotalPop','VarDesc',ax=ax)\n",
    "plt.show()"
   ]
  },
  {
   "cell_type": "code",
   "execution_count": 10,
   "id": "e75fdf72-5459-4063-b733-2987aaa724e1",
   "metadata": {},
   "outputs": [
    {
     "data": {
      "text/plain": [
       "(54086, 5)"
      ]
     },
     "execution_count": 10,
     "metadata": {},
     "output_type": "execute_result"
    }
   ],
   "source": [
    "df1.shape"
   ]
  },
  {
   "cell_type": "code",
   "execution_count": 11,
   "id": "3a240a23-b986-4aa4-90ae-0f43e93be475",
   "metadata": {},
   "outputs": [
    {
     "data": {
      "text/plain": [
       "array(['Low income', 'Lower middle income', 'Upper middle income',\n",
       "       'High income'], dtype=object)"
      ]
     },
     "execution_count": 11,
     "metadata": {},
     "output_type": "execute_result"
    }
   ],
   "source": [
    "df1['IncomeGrp'].unique()"
   ]
  },
  {
   "cell_type": "code",
   "execution_count": 12,
   "id": "d08edfdb-0598-4fd0-ac9a-b821add8f4b7",
   "metadata": {},
   "outputs": [
    {
     "data": {
      "text/plain": [
       "array(['Elevation under 5 meters',\n",
       "       'Elevation between 800 and 1500 meters',\n",
       "       'Elevation between 200 and 400 meters',\n",
       "       'Elevation between 1500 and 3000 meters',\n",
       "       'Elevation between 50 and 100 meters',\n",
       "       'Elevation between 25 and 50 meters',\n",
       "       'Elevation between 400 and 800 meters',\n",
       "       'Elevation between 5 and 10 meters',\n",
       "       'Elevation between 10 and 25 meters',\n",
       "       'Elevation between 100 and 200 meters',\n",
       "       'Elevation between 3000 and 5000 meters',\n",
       "       'Elevation over 5000 meters'], dtype=object)"
      ]
     },
     "execution_count": 12,
     "metadata": {},
     "output_type": "execute_result"
    }
   ],
   "source": [
    "df1['VarDesc'].unique()"
   ]
  },
  {
   "cell_type": "code",
   "execution_count": 13,
   "id": "efc3e2d3-8d04-4c17-a8b4-c6555b7755b5",
   "metadata": {},
   "outputs": [
    {
     "data": {
      "text/plain": [
       "array(['Western Asia', 'Western Africa', 'Eastern Africa', 'Eastern Asia',\n",
       "       'Central Asia', 'Middle Africa', 'Southern Asia', 'Caribbean',\n",
       "       'Eastern Europe', 'Central America', 'Melanesia',\n",
       "       'Northern Africa', 'South-eastern Asia', 'Southern Africa',\n",
       "       'South America', 'Micronesia', 'Southern Europe', 'Polynesia',\n",
       "       'Australia and New Zealand', 'Western Europe', 'Northern Europe',\n",
       "       'Northern America'], dtype=object)"
      ]
     },
     "execution_count": 13,
     "metadata": {},
     "output_type": "execute_result"
    }
   ],
   "source": [
    "df1['GeoSubreg'].unique()"
   ]
  },
  {
   "cell_type": "code",
   "execution_count": 14,
   "id": "6c9b80ff-fbf4-4656-a1fc-6f2447233faa",
   "metadata": {},
   "outputs": [
    {
     "data": {
      "text/html": [
       "<div>\n",
       "<style scoped>\n",
       "    .dataframe tbody tr th:only-of-type {\n",
       "        vertical-align: middle;\n",
       "    }\n",
       "\n",
       "    .dataframe tbody tr th {\n",
       "        vertical-align: top;\n",
       "    }\n",
       "\n",
       "    .dataframe thead th {\n",
       "        text-align: right;\n",
       "    }\n",
       "</style>\n",
       "<table border=\"1\" class=\"dataframe\">\n",
       "  <thead>\n",
       "    <tr style=\"text-align: right;\">\n",
       "      <th></th>\n",
       "      <th>TotalLA</th>\n",
       "      <th>TotalPop</th>\n",
       "    </tr>\n",
       "  </thead>\n",
       "  <tbody>\n",
       "    <tr>\n",
       "      <th>count</th>\n",
       "      <td>5.408600e+04</td>\n",
       "      <td>54086.000000</td>\n",
       "    </tr>\n",
       "    <tr>\n",
       "      <th>mean</th>\n",
       "      <td>7.752979e+04</td>\n",
       "      <td>183924.568456</td>\n",
       "    </tr>\n",
       "    <tr>\n",
       "      <th>std</th>\n",
       "      <td>2.526762e+05</td>\n",
       "      <td>223870.561949</td>\n",
       "    </tr>\n",
       "    <tr>\n",
       "      <th>min</th>\n",
       "      <td>6.024030e-01</td>\n",
       "      <td>10000.402720</td>\n",
       "    </tr>\n",
       "    <tr>\n",
       "      <th>25%</th>\n",
       "      <td>3.252686e+03</td>\n",
       "      <td>31262.201890</td>\n",
       "    </tr>\n",
       "    <tr>\n",
       "      <th>50%</th>\n",
       "      <td>1.273433e+04</td>\n",
       "      <td>83862.467010</td>\n",
       "    </tr>\n",
       "    <tr>\n",
       "      <th>75%</th>\n",
       "      <td>4.709427e+04</td>\n",
       "      <td>247577.587930</td>\n",
       "    </tr>\n",
       "    <tr>\n",
       "      <th>max</th>\n",
       "      <td>3.415164e+06</td>\n",
       "      <td>999965.866231</td>\n",
       "    </tr>\n",
       "  </tbody>\n",
       "</table>\n",
       "</div>"
      ],
      "text/plain": [
       "            TotalLA       TotalPop\n",
       "count  5.408600e+04   54086.000000\n",
       "mean   7.752979e+04  183924.568456\n",
       "std    2.526762e+05  223870.561949\n",
       "min    6.024030e-01   10000.402720\n",
       "25%    3.252686e+03   31262.201890\n",
       "50%    1.273433e+04   83862.467010\n",
       "75%    4.709427e+04  247577.587930\n",
       "max    3.415164e+06  999965.866231"
      ]
     },
     "execution_count": 14,
     "metadata": {},
     "output_type": "execute_result"
    }
   ],
   "source": [
    "df1.describe()"
   ]
  },
  {
   "cell_type": "code",
   "execution_count": 15,
   "id": "6bf258c5-b6ca-47cc-826d-6fcab2387bb8",
   "metadata": {},
   "outputs": [],
   "source": [
    "le_Geo=LabelEncoder()\n",
    "df1['GeoSubreg']=le_Geo.fit_transform(df1['GeoSubreg'])\n",
    "\n",
    "le_Var=LabelEncoder()\n",
    "df1['VarDesc']=le_Var.fit_transform(df1['VarDesc'])\n",
    "\n",
    "le_Inc=LabelEncoder()\n",
    "df1['IncomeGrp']=le_Inc.fit_transform(df1['IncomeGrp'])"
   ]
  },
  {
   "cell_type": "code",
   "execution_count": 16,
   "id": "6f94be53-030c-42ac-aa43-ecec0af3b7d9",
   "metadata": {},
   "outputs": [
    {
     "data": {
      "text/plain": [
       "array([20, 19,  4,  5,  3,  9, 17,  1,  6,  2,  7, 10, 15, 16, 14,  8, 18,\n",
       "       13,  0, 21, 12, 11])"
      ]
     },
     "execution_count": 16,
     "metadata": {},
     "output_type": "execute_result"
    }
   ],
   "source": [
    "df1['GeoSubreg'].unique()"
   ]
  },
  {
   "cell_type": "code",
   "execution_count": 17,
   "id": "fbdf3434-070b-46ee-a2eb-dbb6e5ec3faf",
   "metadata": {},
   "outputs": [
    {
     "data": {
      "text/plain": [
       "array([11,  9,  3,  2,  8,  4,  6,  7,  0,  1,  5, 10])"
      ]
     },
     "execution_count": 17,
     "metadata": {},
     "output_type": "execute_result"
    }
   ],
   "source": [
    "df1['VarDesc'].unique()"
   ]
  },
  {
   "cell_type": "code",
   "execution_count": 18,
   "id": "2592163a-c10c-462e-9a87-dd0b57a92bc1",
   "metadata": {},
   "outputs": [
    {
     "data": {
      "text/plain": [
       "array([1, 2, 3, 0])"
      ]
     },
     "execution_count": 18,
     "metadata": {},
     "output_type": "execute_result"
    }
   ],
   "source": [
    "df1['IncomeGrp'].unique()"
   ]
  },
  {
   "cell_type": "code",
   "execution_count": 19,
   "id": "ee7ac753-1693-4def-94c0-768cbb384d61",
   "metadata": {},
   "outputs": [
    {
     "data": {
      "text/html": [
       "<style>#sk-container-id-1 {color: black;background-color: white;}#sk-container-id-1 pre{padding: 0;}#sk-container-id-1 div.sk-toggleable {background-color: white;}#sk-container-id-1 label.sk-toggleable__label {cursor: pointer;display: block;width: 100%;margin-bottom: 0;padding: 0.3em;box-sizing: border-box;text-align: center;}#sk-container-id-1 label.sk-toggleable__label-arrow:before {content: \"▸\";float: left;margin-right: 0.25em;color: #696969;}#sk-container-id-1 label.sk-toggleable__label-arrow:hover:before {color: black;}#sk-container-id-1 div.sk-estimator:hover label.sk-toggleable__label-arrow:before {color: black;}#sk-container-id-1 div.sk-toggleable__content {max-height: 0;max-width: 0;overflow: hidden;text-align: left;background-color: #f0f8ff;}#sk-container-id-1 div.sk-toggleable__content pre {margin: 0.2em;color: black;border-radius: 0.25em;background-color: #f0f8ff;}#sk-container-id-1 input.sk-toggleable__control:checked~div.sk-toggleable__content {max-height: 200px;max-width: 100%;overflow: auto;}#sk-container-id-1 input.sk-toggleable__control:checked~label.sk-toggleable__label-arrow:before {content: \"▾\";}#sk-container-id-1 div.sk-estimator input.sk-toggleable__control:checked~label.sk-toggleable__label {background-color: #d4ebff;}#sk-container-id-1 div.sk-label input.sk-toggleable__control:checked~label.sk-toggleable__label {background-color: #d4ebff;}#sk-container-id-1 input.sk-hidden--visually {border: 0;clip: rect(1px 1px 1px 1px);clip: rect(1px, 1px, 1px, 1px);height: 1px;margin: -1px;overflow: hidden;padding: 0;position: absolute;width: 1px;}#sk-container-id-1 div.sk-estimator {font-family: monospace;background-color: #f0f8ff;border: 1px dotted black;border-radius: 0.25em;box-sizing: border-box;margin-bottom: 0.5em;}#sk-container-id-1 div.sk-estimator:hover {background-color: #d4ebff;}#sk-container-id-1 div.sk-parallel-item::after {content: \"\";width: 100%;border-bottom: 1px solid gray;flex-grow: 1;}#sk-container-id-1 div.sk-label:hover label.sk-toggleable__label {background-color: #d4ebff;}#sk-container-id-1 div.sk-serial::before {content: \"\";position: absolute;border-left: 1px solid gray;box-sizing: border-box;top: 0;bottom: 0;left: 50%;z-index: 0;}#sk-container-id-1 div.sk-serial {display: flex;flex-direction: column;align-items: center;background-color: white;padding-right: 0.2em;padding-left: 0.2em;position: relative;}#sk-container-id-1 div.sk-item {position: relative;z-index: 1;}#sk-container-id-1 div.sk-parallel {display: flex;align-items: stretch;justify-content: center;background-color: white;position: relative;}#sk-container-id-1 div.sk-item::before, #sk-container-id-1 div.sk-parallel-item::before {content: \"\";position: absolute;border-left: 1px solid gray;box-sizing: border-box;top: 0;bottom: 0;left: 50%;z-index: -1;}#sk-container-id-1 div.sk-parallel-item {display: flex;flex-direction: column;z-index: 1;position: relative;background-color: white;}#sk-container-id-1 div.sk-parallel-item:first-child::after {align-self: flex-end;width: 50%;}#sk-container-id-1 div.sk-parallel-item:last-child::after {align-self: flex-start;width: 50%;}#sk-container-id-1 div.sk-parallel-item:only-child::after {width: 0;}#sk-container-id-1 div.sk-dashed-wrapped {border: 1px dashed gray;margin: 0 0.4em 0.5em 0.4em;box-sizing: border-box;padding-bottom: 0.4em;background-color: white;}#sk-container-id-1 div.sk-label label {font-family: monospace;font-weight: bold;display: inline-block;line-height: 1.2em;}#sk-container-id-1 div.sk-label-container {text-align: center;}#sk-container-id-1 div.sk-container {/* jupyter's `normalize.less` sets `[hidden] { display: none; }` but bootstrap.min.css set `[hidden] { display: none !important; }` so we also need the `!important` here to be able to override the default hidden behavior on the sphinx rendered scikit-learn.org. See: https://github.com/scikit-learn/scikit-learn/issues/21755 */display: inline-block !important;position: relative;}#sk-container-id-1 div.sk-text-repr-fallback {display: none;}</style><div id=\"sk-container-id-1\" class=\"sk-top-container\"><div class=\"sk-text-repr-fallback\"><pre>LinearRegression()</pre><b>In a Jupyter environment, please rerun this cell to show the HTML representation or trust the notebook. <br />On GitHub, the HTML representation is unable to render, please try loading this page with nbviewer.org.</b></div><div class=\"sk-container\" hidden><div class=\"sk-item\"><div class=\"sk-estimator sk-toggleable\"><input class=\"sk-toggleable__control sk-hidden--visually\" id=\"sk-estimator-id-1\" type=\"checkbox\" checked><label for=\"sk-estimator-id-1\" class=\"sk-toggleable__label sk-toggleable__label-arrow\">LinearRegression</label><div class=\"sk-toggleable__content\"><pre>LinearRegression()</pre></div></div></div></div></div>"
      ],
      "text/plain": [
       "LinearRegression()"
      ]
     },
     "execution_count": 19,
     "metadata": {},
     "output_type": "execute_result"
    }
   ],
   "source": [
    "from sklearn.model_selection import train_test_split\n",
    "\n",
    "X=df1.drop(\"TotalPop\",axis=1)\n",
    "y=df1['TotalPop']\n",
    "\n",
    "X_train, X_test, y_train, y_test = train_test_split(X, y, test_size=0.2, random_state=42)\n",
    "linear_reg=LinearRegression()\n",
    "linear_reg.fit(X_train,y_train)\n",
    "#linear_reg.score(y,y_test)"
   ]
  },
  {
   "cell_type": "code",
   "execution_count": 20,
   "id": "42dda5d7-03a6-4442-a96d-1fd13f2204b2",
   "metadata": {},
   "outputs": [
    {
     "data": {
      "text/plain": [
       "0.23721843244903984"
      ]
     },
     "execution_count": 20,
     "metadata": {},
     "output_type": "execute_result"
    }
   ],
   "source": [
    "model=RandomForestRegressor(n_estimators=100)\n",
    "model.fit(X_train,y_train)\n",
    "model.score(X_test,y_test)"
   ]
  },
  {
   "cell_type": "code",
   "execution_count": 21,
   "id": "765a8a71-d6e1-4068-8c63-60915591bea9",
   "metadata": {},
   "outputs": [
    {
     "data": {
      "text/html": [
       "<div>\n",
       "<style scoped>\n",
       "    .dataframe tbody tr th:only-of-type {\n",
       "        vertical-align: middle;\n",
       "    }\n",
       "\n",
       "    .dataframe tbody tr th {\n",
       "        vertical-align: top;\n",
       "    }\n",
       "\n",
       "    .dataframe thead th {\n",
       "        text-align: right;\n",
       "    }\n",
       "</style>\n",
       "<table border=\"1\" class=\"dataframe\">\n",
       "  <thead>\n",
       "    <tr style=\"text-align: right;\">\n",
       "      <th></th>\n",
       "      <th>GeoSubreg</th>\n",
       "      <th>IncomeGrp</th>\n",
       "      <th>VarDesc</th>\n",
       "      <th>TotalLA</th>\n",
       "    </tr>\n",
       "  </thead>\n",
       "  <tbody>\n",
       "    <tr>\n",
       "      <th>4229</th>\n",
       "      <td>4</td>\n",
       "      <td>1</td>\n",
       "      <td>2</td>\n",
       "      <td>15485.769214</td>\n",
       "    </tr>\n",
       "    <tr>\n",
       "      <th>23705</th>\n",
       "      <td>3</td>\n",
       "      <td>2</td>\n",
       "      <td>8</td>\n",
       "      <td>66309.545143</td>\n",
       "    </tr>\n",
       "    <tr>\n",
       "      <th>51278</th>\n",
       "      <td>1</td>\n",
       "      <td>3</td>\n",
       "      <td>8</td>\n",
       "      <td>63.195384</td>\n",
       "    </tr>\n",
       "    <tr>\n",
       "      <th>46343</th>\n",
       "      <td>2</td>\n",
       "      <td>3</td>\n",
       "      <td>9</td>\n",
       "      <td>449666.978303</td>\n",
       "    </tr>\n",
       "    <tr>\n",
       "      <th>94174</th>\n",
       "      <td>18</td>\n",
       "      <td>0</td>\n",
       "      <td>3</td>\n",
       "      <td>60799.313118</td>\n",
       "    </tr>\n",
       "  </tbody>\n",
       "</table>\n",
       "</div>"
      ],
      "text/plain": [
       "       GeoSubreg  IncomeGrp  VarDesc        TotalLA\n",
       "4229           4          1        2   15485.769214\n",
       "23705          3          2        8   66309.545143\n",
       "51278          1          3        8      63.195384\n",
       "46343          2          3        9  449666.978303\n",
       "94174         18          0        3   60799.313118"
      ]
     },
     "execution_count": 21,
     "metadata": {},
     "output_type": "execute_result"
    }
   ],
   "source": [
    "X_train.head()"
   ]
  },
  {
   "cell_type": "code",
   "execution_count": 22,
   "id": "4bde15c3-7dc9-497e-8593-c4c983a7fe41",
   "metadata": {},
   "outputs": [
    {
     "data": {
      "text/html": [
       "<style>#sk-container-id-2 {color: black;background-color: white;}#sk-container-id-2 pre{padding: 0;}#sk-container-id-2 div.sk-toggleable {background-color: white;}#sk-container-id-2 label.sk-toggleable__label {cursor: pointer;display: block;width: 100%;margin-bottom: 0;padding: 0.3em;box-sizing: border-box;text-align: center;}#sk-container-id-2 label.sk-toggleable__label-arrow:before {content: \"▸\";float: left;margin-right: 0.25em;color: #696969;}#sk-container-id-2 label.sk-toggleable__label-arrow:hover:before {color: black;}#sk-container-id-2 div.sk-estimator:hover label.sk-toggleable__label-arrow:before {color: black;}#sk-container-id-2 div.sk-toggleable__content {max-height: 0;max-width: 0;overflow: hidden;text-align: left;background-color: #f0f8ff;}#sk-container-id-2 div.sk-toggleable__content pre {margin: 0.2em;color: black;border-radius: 0.25em;background-color: #f0f8ff;}#sk-container-id-2 input.sk-toggleable__control:checked~div.sk-toggleable__content {max-height: 200px;max-width: 100%;overflow: auto;}#sk-container-id-2 input.sk-toggleable__control:checked~label.sk-toggleable__label-arrow:before {content: \"▾\";}#sk-container-id-2 div.sk-estimator input.sk-toggleable__control:checked~label.sk-toggleable__label {background-color: #d4ebff;}#sk-container-id-2 div.sk-label input.sk-toggleable__control:checked~label.sk-toggleable__label {background-color: #d4ebff;}#sk-container-id-2 input.sk-hidden--visually {border: 0;clip: rect(1px 1px 1px 1px);clip: rect(1px, 1px, 1px, 1px);height: 1px;margin: -1px;overflow: hidden;padding: 0;position: absolute;width: 1px;}#sk-container-id-2 div.sk-estimator {font-family: monospace;background-color: #f0f8ff;border: 1px dotted black;border-radius: 0.25em;box-sizing: border-box;margin-bottom: 0.5em;}#sk-container-id-2 div.sk-estimator:hover {background-color: #d4ebff;}#sk-container-id-2 div.sk-parallel-item::after {content: \"\";width: 100%;border-bottom: 1px solid gray;flex-grow: 1;}#sk-container-id-2 div.sk-label:hover label.sk-toggleable__label {background-color: #d4ebff;}#sk-container-id-2 div.sk-serial::before {content: \"\";position: absolute;border-left: 1px solid gray;box-sizing: border-box;top: 0;bottom: 0;left: 50%;z-index: 0;}#sk-container-id-2 div.sk-serial {display: flex;flex-direction: column;align-items: center;background-color: white;padding-right: 0.2em;padding-left: 0.2em;position: relative;}#sk-container-id-2 div.sk-item {position: relative;z-index: 1;}#sk-container-id-2 div.sk-parallel {display: flex;align-items: stretch;justify-content: center;background-color: white;position: relative;}#sk-container-id-2 div.sk-item::before, #sk-container-id-2 div.sk-parallel-item::before {content: \"\";position: absolute;border-left: 1px solid gray;box-sizing: border-box;top: 0;bottom: 0;left: 50%;z-index: -1;}#sk-container-id-2 div.sk-parallel-item {display: flex;flex-direction: column;z-index: 1;position: relative;background-color: white;}#sk-container-id-2 div.sk-parallel-item:first-child::after {align-self: flex-end;width: 50%;}#sk-container-id-2 div.sk-parallel-item:last-child::after {align-self: flex-start;width: 50%;}#sk-container-id-2 div.sk-parallel-item:only-child::after {width: 0;}#sk-container-id-2 div.sk-dashed-wrapped {border: 1px dashed gray;margin: 0 0.4em 0.5em 0.4em;box-sizing: border-box;padding-bottom: 0.4em;background-color: white;}#sk-container-id-2 div.sk-label label {font-family: monospace;font-weight: bold;display: inline-block;line-height: 1.2em;}#sk-container-id-2 div.sk-label-container {text-align: center;}#sk-container-id-2 div.sk-container {/* jupyter's `normalize.less` sets `[hidden] { display: none; }` but bootstrap.min.css set `[hidden] { display: none !important; }` so we also need the `!important` here to be able to override the default hidden behavior on the sphinx rendered scikit-learn.org. See: https://github.com/scikit-learn/scikit-learn/issues/21755 */display: inline-block !important;position: relative;}#sk-container-id-2 div.sk-text-repr-fallback {display: none;}</style><div id=\"sk-container-id-2\" class=\"sk-top-container\"><div class=\"sk-text-repr-fallback\"><pre>RandomForestRegressor(random_state=0)</pre><b>In a Jupyter environment, please rerun this cell to show the HTML representation or trust the notebook. <br />On GitHub, the HTML representation is unable to render, please try loading this page with nbviewer.org.</b></div><div class=\"sk-container\" hidden><div class=\"sk-item\"><div class=\"sk-estimator sk-toggleable\"><input class=\"sk-toggleable__control sk-hidden--visually\" id=\"sk-estimator-id-2\" type=\"checkbox\" checked><label for=\"sk-estimator-id-2\" class=\"sk-toggleable__label sk-toggleable__label-arrow\">RandomForestRegressor</label><div class=\"sk-toggleable__content\"><pre>RandomForestRegressor(random_state=0)</pre></div></div></div></div></div>"
      ],
      "text/plain": [
       "RandomForestRegressor(random_state=0)"
      ]
     },
     "execution_count": 22,
     "metadata": {},
     "output_type": "execute_result"
    }
   ],
   "source": [
    "random_forest_reg=RandomForestRegressor(random_state=0)\n",
    "random_forest_reg.fit(X,y.values)"
   ]
  },
  {
   "cell_type": "code",
   "execution_count": 23,
   "id": "73620a77-855a-4a24-afe4-cfaec470ea16",
   "metadata": {},
   "outputs": [],
   "source": [
    "y_predict=random_forest_reg.predict(X)"
   ]
  },
  {
   "cell_type": "code",
   "execution_count": 24,
   "id": "e639adba-3f47-4672-93fa-81a56a43e97f",
   "metadata": {},
   "outputs": [],
   "source": [
    "error=np.sqrt(mean_squared_error(y,y_predict))"
   ]
  },
  {
   "cell_type": "code",
   "execution_count": 25,
   "id": "08eadf9d-e55f-4149-986d-1cfd314649ee",
   "metadata": {},
   "outputs": [
    {
     "data": {
      "text/plain": [
       "190866.4964572643"
      ]
     },
     "execution_count": 25,
     "metadata": {},
     "output_type": "execute_result"
    }
   ],
   "source": [
    "error"
   ]
  },
  {
   "cell_type": "code",
   "execution_count": 26,
   "id": "93048976-4200-403d-aa08-4825789341b6",
   "metadata": {},
   "outputs": [],
   "source": [
    "# accuracy = accuracy_score(y_test, y_predict)"
   ]
  },
  {
   "cell_type": "code",
   "execution_count": 27,
   "id": "a48e0832-f618-4789-b507-7ca329dd7566",
   "metadata": {},
   "outputs": [
    {
     "data": {
      "text/plain": [
       "array([[ 19.      ,   1.      ,   6.      , 233.129761]])"
      ]
     },
     "execution_count": 27,
     "metadata": {},
     "output_type": "execute_result"
    }
   ],
   "source": [
    "\n",
    "#Input \n",
    "#df1=df[['GeoSubreg','IncomeGrp','VarDesc','UrbanPop','RuralPop','RuralLA','UrbanLA','TotalLA']]\n",
    "tes=np.array([[\"Western Africa\",\"Low income\",\"Elevation between 400 and 800 meters\",233.129761]])\n",
    "tes[:,0]=le_Geo.transform(tes[:,0])\n",
    "tes[:,1]=le_Inc.transform(tes[:,1])\n",
    "tes[:,2]=le_Var.transform(tes[:,2])\n",
    "tes=tes.astype(float)\n",
    "tes"
   ]
  },
  {
   "cell_type": "code",
   "execution_count": 28,
   "id": "953d1f72-b43f-48bc-82ba-81345929e929",
   "metadata": {},
   "outputs": [
    {
     "name": "stderr",
     "output_type": "stream",
     "text": [
      "C:\\Users\\user\\AppData\\Local\\Programs\\Python\\Python311\\Lib\\site-packages\\sklearn\\base.py:439: UserWarning: X does not have valid feature names, but LinearRegression was fitted with feature names\n",
      "  warnings.warn(\n"
     ]
    }
   ],
   "source": [
    "tes_pred=linear_reg.predict(tes)"
   ]
  },
  {
   "cell_type": "code",
   "execution_count": 29,
   "id": "a931ad6e-84bc-4ad1-92cd-03c398b75b7d",
   "metadata": {},
   "outputs": [
    {
     "data": {
      "text/plain": [
       "array([184824.71629826])"
      ]
     },
     "execution_count": 29,
     "metadata": {},
     "output_type": "execute_result"
    }
   ],
   "source": [
    "tes_pred"
   ]
  },
  {
   "cell_type": "code",
   "execution_count": 30,
   "id": "6939f5cf-3f54-4d6d-b5db-cdf1dbc274dd",
   "metadata": {},
   "outputs": [],
   "source": [
    "import pickle"
   ]
  },
  {
   "cell_type": "code",
   "execution_count": 31,
   "id": "00f1ad34-e1cf-49f7-9f1c-aff5aa737b61",
   "metadata": {},
   "outputs": [],
   "source": [
    "data={\"model\":linear_reg,\"le_Geo\":le_Geo, \"le_Inc\":le_Inc,\"le_Var\":le_Var}\n",
    "with open('saved_steps.pkl',\"wb\") as file:\n",
    "    pickle.dump(data,file)"
   ]
  },
  {
   "cell_type": "code",
   "execution_count": 32,
   "id": "ffe61abd-fcdc-4c24-b990-23eb78df648b",
   "metadata": {},
   "outputs": [],
   "source": [
    "with open('saved_steps.pkl','rb') as file:\n",
    "    pickle.load(file)\n",
    "regressor_loaded=data['model']\n",
    "le_Geo=data['le_Geo']\n",
    "le_Inc=data['le_Inc']\n",
    "le_Var=data['le_Var']"
   ]
  },
  {
   "cell_type": "code",
   "execution_count": 33,
   "id": "476350ac-4188-472e-8d90-87e4128afed0",
   "metadata": {},
   "outputs": [
    {
     "name": "stderr",
     "output_type": "stream",
     "text": [
      "C:\\Users\\user\\AppData\\Local\\Programs\\Python\\Python311\\Lib\\site-packages\\sklearn\\base.py:439: UserWarning: X does not have valid feature names, but LinearRegression was fitted with feature names\n",
      "  warnings.warn(\n"
     ]
    },
    {
     "data": {
      "text/plain": [
       "array([184824.71629826])"
      ]
     },
     "execution_count": 33,
     "metadata": {},
     "output_type": "execute_result"
    }
   ],
   "source": [
    "tes_pred2=regressor_loaded.predict(tes)\n",
    "tes_pred2"
   ]
  }
 ],
 "metadata": {
  "kernelspec": {
   "display_name": "Python 3 (ipykernel)",
   "language": "python",
   "name": "python3"
  },
  "language_info": {
   "codemirror_mode": {
    "name": "ipython",
    "version": 3
   },
   "file_extension": ".py",
   "mimetype": "text/x-python",
   "name": "python",
   "nbconvert_exporter": "python",
   "pygments_lexer": "ipython3",
   "version": "3.11.3"
  }
 },
 "nbformat": 4,
 "nbformat_minor": 5
}
